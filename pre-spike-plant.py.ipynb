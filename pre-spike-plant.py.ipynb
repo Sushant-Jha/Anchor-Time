{
 "cells": [
  {
   "cell_type": "code",
   "execution_count": 1,
   "metadata": {},
   "outputs": [],
   "source": [
    "import pandas as pd\n"
   ]
  },
  {
   "cell_type": "code",
   "execution_count": 3,
   "metadata": {},
   "outputs": [],
   "source": [
    "\n",
    "df = pd.read_csv(\"Breeze.csv\")\n"
   ]
  },
  {
   "cell_type": "code",
   "execution_count": 4,
   "metadata": {},
   "outputs": [],
   "source": [
    "\n",
    "#Get Round IDs w/ Spike Plants\n",
    "rounds_w_plant = (df\n",
    "  .query(\"eventType == 'plant'\")\n",
    "  ['roundId'].tolist()\n",
    ")"
   ]
  },
  {
   "cell_type": "code",
   "execution_count": 5,
   "metadata": {},
   "outputs": [],
   "source": [
    "\n",
    "#Get Plant Times of those Rounds\n",
    "round_plant_times = (df\n",
    "  .query(\"eventType == 'plant'\")\n",
    "  ['roundTimeMillis'].tolist()\n",
    ")"
   ]
  },
  {
   "cell_type": "code",
   "execution_count": 6,
   "metadata": {},
   "outputs": [],
   "source": [
    "#Make Empty DataFrame\n",
    "kills_post_plant = pd.DataFrame()"
   ]
  },
  {
   "cell_type": "code",
   "execution_count": 7,
   "metadata": {},
   "outputs": [
    {
     "name": "stdout",
     "output_type": "stream",
     "text": [
      "      Unnamed: 0  roundId  roundNumber  roundTimeMillis      killId  \\\n",
      "10            10  1236839            2            39807  10022966.0   \n",
      "273          273  1236839            2            39807  10022966.0   \n",
      "536          536  1236839            2            39807  10022966.0   \n",
      "799          799  1236839            2            39807  10022966.0   \n",
      "19            19  1236840            3             7680  10022974.0   \n",
      "...          ...      ...          ...              ...         ...   \n",
      "6099        6099  1227703           20            31070   9958289.0   \n",
      "6100        6100  1227703           20            34308   9958291.0   \n",
      "6101        6101  1227703           20            83105   9958294.0   \n",
      "6102        6102  1227703           20            83332   9958290.0   \n",
      "6103        6103  1227703           20            86067   9958295.0   \n",
      "\n",
      "      tradedByKillId  tradedForKillId  bombId  resId  playerId  \\\n",
      "10               NaN              NaN     NaN    NaN    2483.0   \n",
      "273              NaN              NaN     NaN    NaN    2483.0   \n",
      "536              NaN              NaN     NaN    NaN    2483.0   \n",
      "799              NaN              NaN     NaN    NaN    2483.0   \n",
      "19        10022976.0              NaN     NaN    NaN    2716.0   \n",
      "...              ...              ...     ...    ...       ...   \n",
      "6099             NaN              NaN     NaN    NaN    3211.0   \n",
      "6100             NaN              NaN     NaN    NaN    2716.0   \n",
      "6101             NaN              NaN     NaN    NaN    4746.0   \n",
      "6102       9958295.0              NaN     NaN    NaN    3211.0   \n",
      "6103             NaN        9958290.0     NaN    NaN    4746.0   \n",
      "\n",
      "                                                assists  referencePlayerId  \\\n",
      "10                                                   []             2895.0   \n",
      "273                                                  []             2895.0   \n",
      "536                                                  []             2895.0   \n",
      "799                                                  []             2895.0   \n",
      "19                                                   []             2895.0   \n",
      "...                                                 ...                ...   \n",
      "6099                                                 []             6037.0   \n",
      "6100                                                 []             2895.0   \n",
      "6101  [{'assistId': 3625414, 'assistantId': 4748, 'd...             2716.0   \n",
      "6102                                                 []             2294.0   \n",
      "6103                                                 []             3211.0   \n",
      "\n",
      "     eventType damageType    weapon    impact  attackingWinProbabilityBefore  \\\n",
      "10        kill     weapon    Vandal  0.148896                       0.225968   \n",
      "273       kill     weapon    Vandal  0.148896                       0.225968   \n",
      "536       kill     weapon    Vandal  0.148896                       0.225968   \n",
      "799       kill     weapon    Vandal  0.148896                       0.225968   \n",
      "19        kill     weapon    Vandal  0.208196                       0.509122   \n",
      "...        ...        ...       ...       ...                            ...   \n",
      "6099      kill     weapon  Operator  0.167236                       0.691346   \n",
      "6100      kill     weapon  Operator  0.244255                       0.524110   \n",
      "6101      kill     weapon    Vandal  0.186786                       0.234620   \n",
      "6102      kill     weapon  Operator  0.237130                       0.421406   \n",
      "6103      kill     weapon    Vandal  0.194181                       0.165541   \n",
      "\n",
      "      attackingWinProbabilityAfter  attackingTeamId  matchId  \n",
      "10                        0.077072             6344    79333  \n",
      "273                       0.077072             6344    79334  \n",
      "536                       0.077072             6344    79335  \n",
      "799                       0.077072             6344    79336  \n",
      "19                        0.300925             6344    79333  \n",
      "...                            ...              ...      ...  \n",
      "6099                      0.524110             6344    78783  \n",
      "6100                      0.279854             6344    78783  \n",
      "6101                      0.421406             6344    78783  \n",
      "6102                      0.184276             6344    78783  \n",
      "6103                      0.359722             6344    78783  \n",
      "\n",
      "[5690 rows x 20 columns]\n"
     ]
    }
   ],
   "source": [
    "for x in range(len(rounds_w_plant)):\n",
    "  round_id = rounds_w_plant[x]\n",
    "  plant_time = round_plant_times[x]\n",
    "\n",
    "  #Query only kill events, by Round Id and must be less than plant time\n",
    "  kill_df = (df\n",
    "    .query(\"eventType == 'kill'\")\n",
    "    .query(\"roundId == @round_id\")\n",
    "    .query(\"roundTimeMillis < @plant_time\")\n",
    "  )\n",
    "\n",
    "  #Concat to create full list\n",
    "  kills_post_plant = pd.concat([kills_post_plant, kill_df])\n",
    "\n",
    "print(kills_post_plant)\n"
   ]
  },
  {
   "cell_type": "code",
   "execution_count": 8,
   "metadata": {},
   "outputs": [],
   "source": [
    "kills_post_plant.to_csv(\"cleaned.csv\")"
   ]
  },
  {
   "cell_type": "code",
   "execution_count": null,
   "metadata": {},
   "outputs": [],
   "source": []
  }
 ],
 "metadata": {
  "kernelspec": {
   "display_name": "Python 3",
   "language": "python",
   "name": "python3"
  },
  "language_info": {
   "codemirror_mode": {
    "name": "ipython",
    "version": 3
   },
   "file_extension": ".py",
   "mimetype": "text/x-python",
   "name": "python",
   "nbconvert_exporter": "python",
   "pygments_lexer": "ipython3",
   "version": "3.7.5"
  }
 },
 "nbformat": 4,
 "nbformat_minor": 4
}
